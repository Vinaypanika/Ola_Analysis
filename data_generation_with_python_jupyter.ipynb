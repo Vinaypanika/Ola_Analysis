{
 "cells": [
  {
   "cell_type": "code",
   "execution_count": 4,
   "id": "18c9d80a-f3fd-4d3b-aea0-7a0508ae911e",
   "metadata": {},
   "outputs": [
    {
     "name": "stdout",
     "output_type": "stream",
     "text": [
      "Data Generation Complete.\n"
     ]
    }
   ],
   "source": [
    "import pandas as pd\n",
    "import numpy as np\n",
    "from random import randint, choice\n",
    "import datetime\n",
    "\n",
    "# Set the number of rows\n",
    "num_rows = 100000\n",
    "\n",
    "# Define the parameters\n",
    "vehicle_types = ['Auto', 'Prime Plus', 'Prime Sedan', 'Mini', 'Bike', 'eBike', 'Prime SUV']\n",
    "locations = ['Location ' + str(i) for i in range(1, 51)]  # 50 dummy locations\n",
    "cancel_reasons_customer = [\n",
    "    'Driver is not moving towards pickup location',\n",
    "    'Driver asked to cancel',\n",
    "    'AC is not working (only for 4 wheelers)',\n",
    "    'Change of plans',\n",
    "    'Wrong Address'\n",
    "]\n",
    "cancel_reasons_driver = [\n",
    "    'Personal & Car related issue',\n",
    "    'Customer related issue',\n",
    "    'Customer was coughing/sick',\n",
    "    'More than permitted people in there'\n",
    "]\n",
    "incomplete_reasons = ['Vehicle Breakdown', 'Other Issue']\n",
    "\n",
    "# Generate data\n",
    "dates = pd.date_range('2025-02-01', periods=num_rows, freq='H')\n",
    "times = [datetime.time(randint(0, 23), randint(0, 59)) for _ in range(num_rows)]\n",
    "booking_ids = ['CNR' + str(randint(1000000000, 9999999999)) for _ in range(num_rows)]\n",
    "statuses = ['Success' if randint(0, 100) <= 62 else 'Failed' for _ in range(num_rows)]\n",
    "customer_ids = [randint(10000, 99999) for _ in range(num_rows)]\n",
    "vehicle_types_column = [choice(vehicle_types) for _ in range(num_rows)]\n",
    "pickup_locations = [choice(locations) for _ in range(num_rows)]\n",
    "drop_locations = [choice(locations) for _ in range(num_rows)]\n",
    "avg_vtat = [randint(5, 30) if statuses[i] == 'Success' else np.nan for i in range(num_rows)]\n",
    "avg_ctat = [randint(5, 30) if statuses[i] == 'Success' else np.nan for i in range(num_rows)]\n",
    "cancelled_by_customer = [randint(0, 100) <= 7 if statuses[i] == 'Failed' else 0 for i in range(num_rows)]\n",
    "cancel_reasons = [choice(cancel_reasons_customer) if cancelled_by_customer[i] > 0 else np.nan for i in range(num_rows)]\n",
    "cancelled_by_driver = [randint(0, 100) <= 18 if statuses[i] == 'Failed' else 0 for i in range(num_rows)]\n",
    "incomplete_rides = [randint(0, 100) <= 6 if statuses[i] == 'Failed' else 0 for i in range(num_rows)]\n",
    "incomplete_reasons_column = [choice(incomplete_reasons) if incomplete_rides[i] > 0 else np.nan for i in range(num_rows)]\n",
    "booking_value = [round(randint(100, 1000) * 1.5) if statuses[i] == 'Success' else 0 for i in range(num_rows)]\n",
    "ride_distance = [round(randint(5, 50), 1) if statuses[i] == 'Success' else np.nan for i in range(num_rows)]\n",
    "driver_ratings = [round(randint(3, 5), 1) if statuses[i] == 'Success' else np.nan for i in range(num_rows)]\n",
    "customer_ratings = [round(randint(3, 5), 1) if statuses[i] == 'Success' else np.nan for i in range(num_rows)]\n",
    "\n",
    "# Prepare the DataFrame\n",
    "data = pd.DataFrame({\n",
    "    'Date': dates,\n",
    "    'Time': times,\n",
    "    'Booking ID': booking_ids,\n",
    "    'Booking Status': statuses,\n",
    "    'Customer ID': customer_ids,\n",
    "    'Vehicle Type': vehicle_types_column,\n",
    "    'Pickup Location': pickup_locations,\n",
    "    'Drop Location': drop_locations,\n",
    "    'Avg VTAT': avg_vtat,\n",
    "    'Avg CTAT': avg_ctat,\n",
    "    'Canceled Rides by Customer': cancelled_by_customer,\n",
    "    'Reason for canceling by Customer': cancel_reasons,\n",
    "    'Canceled Rides by Driver': cancelled_by_driver,\n",
    "    'Incomplete Rides': incomplete_rides,\n",
    "    'Incomplete Rides Reason': incomplete_reasons_column,\n",
    "    'Booking Value': booking_value,\n",
    "    'Ride Distance': ride_distance,\n",
    "    'Driver Ratings': driver_ratings,\n",
    "    'Customer Rating': customer_ratings\n",
    "})\n",
    "\n",
    "# Adjust values for specific conditions\n",
    "data['Booking Status'] = np.where(np.random.rand(num_rows) <= 0.62, 'Success', 'Failed')\n",
    "\n",
    "# Filter out canceled rides by customers more than 7%\n",
    "data['Canceled Rides by Customer'] = np.where(data['Booking Status'] == 'Failed', \n",
    "                                              np.random.choice([1, 0], p=[0.07, 0.93]), 0)\n",
    "\n",
    "# Filter out canceled rides by drivers more than 18%\n",
    "data['Canceled Rides by Driver'] = np.where(data['Booking Status'] == 'Failed', \n",
    "                                            np.random.choice([1, 0], p=[0.18, 0.82]), 0)\n",
    "\n",
    "# Weekend order values adjustment\n",
    "weekends = [5, 6]  # Saturday, Sunday\n",
    "data['Booking Value'] = np.where(data['Date'].dt.weekday.isin(weekends), \n",
    "                                 np.where(data['Booking Value'] > 500, 1000, 500), \n",
    "                                 data['Booking Value'])\n",
    "\n",
    "# Match day orders (assuming a list of dates for match days)\n",
    "match_days = ['2025-02-04', '2025-02-07', '2025-02-14']  # Example match dates\n",
    "data['Booking Value'] = np.where(data['Date'].dt.strftime('%Y-%m-%d').isin(match_days), 1000, data['Booking Value'])\n",
    "\n",
    "# Output the data to a CSV file\n",
    "data.to_csv('indore.csv', index=False)\n",
    "\n",
    "print(\"Data Generation Complete.\")\n"
   ]
  },
  {
   "cell_type": "code",
   "execution_count": null,
   "id": "464e7053-536d-4f6d-b8ed-ee30fcf7ae65",
   "metadata": {},
   "outputs": [],
   "source": []
  },
  {
   "cell_type": "code",
   "execution_count": 5,
   "id": "211d9603-4475-48fa-8d19-c8d75d454d1e",
   "metadata": {},
   "outputs": [
    {
     "data": {
      "text/markdown": [
       "\n",
       "## 📞 Contact Details  \n",
       "- 🔗 **LinkedIn:** [Vinay Kumar Panika](https://www.linkedin.com/in/vinaykumarpanika)  \n",
       "- 💻 **GitHub:** [Vinaypanika](https://github.com/Vinaypanika)  \n",
       "- 📧 **Email:** vinaypanika@gmail.com  \n",
       "- 📱 **Phone:** +91-7415552944  \n"
      ],
      "text/plain": [
       "<IPython.core.display.Markdown object>"
      ]
     },
     "metadata": {},
     "output_type": "display_data"
    }
   ],
   "source": [
    "from IPython.display import display, Markdown\n",
    "\n",
    "contact_details = \"\"\"\n",
    "## 📞 Contact Details  \n",
    "- 🔗 **LinkedIn:** [Vinay Kumar Panika](https://www.linkedin.com/in/vinaykumarpanika)  \n",
    "- 💻 **GitHub:** [Vinaypanika](https://github.com/Vinaypanika)  \n",
    "- 📧 **Email:** vinaypanika@gmail.com  \n",
    "- 📱 **Phone:** +91-7415552944  \n",
    "\"\"\"\n",
    "\n",
    "display(Markdown(contact_details))\n"
   ]
  },
  {
   "cell_type": "code",
   "execution_count": null,
   "id": "60d63842-637c-4e9d-bd4a-44e14628b552",
   "metadata": {},
   "outputs": [],
   "source": []
  },
  {
   "cell_type": "code",
   "execution_count": null,
   "id": "98457f8e-0f1f-49fa-918b-81abdb1dff34",
   "metadata": {},
   "outputs": [],
   "source": []
  },
  {
   "cell_type": "code",
   "execution_count": null,
   "id": "fecd3013-a467-4747-9514-75415b34198c",
   "metadata": {},
   "outputs": [],
   "source": []
  }
 ],
 "metadata": {
  "kernelspec": {
   "display_name": "Python 3 (ipykernel)",
   "language": "python",
   "name": "python3"
  },
  "language_info": {
   "codemirror_mode": {
    "name": "ipython",
    "version": 3
   },
   "file_extension": ".py",
   "mimetype": "text/x-python",
   "name": "python",
   "nbconvert_exporter": "python",
   "pygments_lexer": "ipython3",
   "version": "3.11.7"
  }
 },
 "nbformat": 4,
 "nbformat_minor": 5
}
